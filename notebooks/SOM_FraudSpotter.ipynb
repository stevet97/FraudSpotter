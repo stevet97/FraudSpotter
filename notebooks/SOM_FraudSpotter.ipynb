{
  "nbformat": 4,
  "nbformat_minor": 0,
  "metadata": {
    "colab": {
      "provenance": [],
      "gpuType": "T4"
    },
    "kernelspec": {
      "name": "python3",
      "display_name": "Python 3"
    },
    "language_info": {
      "name": "python"
    },
    "accelerator": "GPU"
  },
  "cells": [
    {
      "cell_type": "markdown",
      "source": [
        "**Imports and Setup**"
      ],
      "metadata": {
        "id": "FlEHQGNnrOEA"
      }
    },
    {
      "cell_type": "code",
      "execution_count": 2,
      "metadata": {
        "id": "T2E3GJp_zyKO",
        "colab": {
          "base_uri": "https://localhost:8080/"
        },
        "outputId": "475e3f46-076e-4bb6-c156-f64fc855d689"
      },
      "outputs": [
        {
          "output_type": "stream",
          "name": "stdout",
          "text": [
            "Collecting minisom\n",
            "  Downloading MiniSom-2.3.3.tar.gz (11 kB)\n",
            "  Preparing metadata (setup.py) ... \u001b[?25l\u001b[?25hdone\n",
            "Requirement already satisfied: numpy in /usr/local/lib/python3.10/dist-packages (1.26.4)\n",
            "Requirement already satisfied: pandas in /usr/local/lib/python3.10/dist-packages (2.1.4)\n",
            "Requirement already satisfied: matplotlib in /usr/local/lib/python3.10/dist-packages (3.7.1)\n",
            "Requirement already satisfied: scikit-learn in /usr/local/lib/python3.10/dist-packages (1.5.2)\n",
            "Requirement already satisfied: python-dateutil>=2.8.2 in /usr/local/lib/python3.10/dist-packages (from pandas) (2.8.2)\n",
            "Requirement already satisfied: pytz>=2020.1 in /usr/local/lib/python3.10/dist-packages (from pandas) (2024.2)\n",
            "Requirement already satisfied: tzdata>=2022.1 in /usr/local/lib/python3.10/dist-packages (from pandas) (2024.1)\n",
            "Requirement already satisfied: contourpy>=1.0.1 in /usr/local/lib/python3.10/dist-packages (from matplotlib) (1.3.0)\n",
            "Requirement already satisfied: cycler>=0.10 in /usr/local/lib/python3.10/dist-packages (from matplotlib) (0.12.1)\n",
            "Requirement already satisfied: fonttools>=4.22.0 in /usr/local/lib/python3.10/dist-packages (from matplotlib) (4.53.1)\n",
            "Requirement already satisfied: kiwisolver>=1.0.1 in /usr/local/lib/python3.10/dist-packages (from matplotlib) (1.4.7)\n",
            "Requirement already satisfied: packaging>=20.0 in /usr/local/lib/python3.10/dist-packages (from matplotlib) (24.1)\n",
            "Requirement already satisfied: pillow>=6.2.0 in /usr/local/lib/python3.10/dist-packages (from matplotlib) (10.4.0)\n",
            "Requirement already satisfied: pyparsing>=2.3.1 in /usr/local/lib/python3.10/dist-packages (from matplotlib) (3.1.4)\n",
            "Requirement already satisfied: scipy>=1.6.0 in /usr/local/lib/python3.10/dist-packages (from scikit-learn) (1.13.1)\n",
            "Requirement already satisfied: joblib>=1.2.0 in /usr/local/lib/python3.10/dist-packages (from scikit-learn) (1.4.2)\n",
            "Requirement already satisfied: threadpoolctl>=3.1.0 in /usr/local/lib/python3.10/dist-packages (from scikit-learn) (3.5.0)\n",
            "Requirement already satisfied: six>=1.5 in /usr/local/lib/python3.10/dist-packages (from python-dateutil>=2.8.2->pandas) (1.16.0)\n",
            "Building wheels for collected packages: minisom\n",
            "  Building wheel for minisom (setup.py) ... \u001b[?25l\u001b[?25hdone\n",
            "  Created wheel for minisom: filename=MiniSom-2.3.3-py3-none-any.whl size=11706 sha256=745b6c134d790828f4be80448a58fa09e0710b3e203e4c13bf2f71d80593a95d\n",
            "  Stored in directory: /root/.cache/pip/wheels/96/98/a5/52dee3e8ed1dbfc4d77e4da41b6d89dd7ab9ead1b921e766f8\n",
            "Successfully built minisom\n",
            "Installing collected packages: minisom\n",
            "Successfully installed minisom-2.3.3\n",
            "Mounted at /content/drive\n"
          ]
        }
      ],
      "source": [
        "# Install necessary packages first\n",
        "!pip install minisom numpy pandas matplotlib scikit-learn\n",
        "\n",
        "#Import necessary libraries\n",
        "import numpy as np\n",
        "import pandas as pd\n",
        "import matplotlib.pyplot as plt\n",
        "from sklearn.preprocessing import MinMaxScaler\n",
        "from minisom import MiniSom\n",
        "\n",
        "#Setup Google Drive\n",
        "from google.colab import drive\n",
        "drive.mount('/content/drive')"
      ]
    },
    {
      "cell_type": "markdown",
      "source": [
        "**Load Dataset - Refactored**"
      ],
      "metadata": {
        "id": "VIjWU2BrrcE1"
      }
    },
    {
      "cell_type": "code",
      "source": [
        "#Load Dataset Function\n",
        "def load_dataset(file_path):\n",
        "    try:\n",
        "        df = pd.read_csv(file_path)\n",
        "        print(\"Dataset Loaded Successfully.\")\n",
        "        return df\n",
        "    except FileNotFoundError:\n",
        "        print(\"File not found. Please check the path.\")\n",
        "    except pd.errors.EmptyDataError:\n",
        "        print(\"File is empty. Please check the contents.\")\n",
        "    return None\n",
        "\n",
        "#File path parameterized\n",
        "file_path = '/content/drive/My Drive/SOM/Credit_Card_Applications.csv'\n",
        "dataset = load_dataset(file_path)\n",
        "\n",
        "if dataset is not None:\n",
        "    print(dataset.head())  # Display first 5 rows for verification"
      ],
      "metadata": {
        "colab": {
          "base_uri": "https://localhost:8080/"
        },
        "id": "QaD1jjoS0Pvp",
        "outputId": "eb0bf7fc-5d34-49c7-ce95-f36ff31e7914",
        "collapsed": true
      },
      "execution_count": 4,
      "outputs": [
        {
          "output_type": "stream",
          "name": "stdout",
          "text": [
            "Dataset Loaded Successfully.\n",
            "   CustomerID  A1     A2     A3  A4  A5  A6     A7  A8  A9  A10  A11  A12  \\\n",
            "0    15776156   1  22.08  11.46   2   4   4  1.585   0   0    0    1    2   \n",
            "1    15739548   0  22.67   7.00   2   8   4  0.165   0   0    0    0    2   \n",
            "2    15662854   0  29.58   1.75   1   4   4  1.250   0   0    0    1    2   \n",
            "3    15687688   0  21.67  11.50   1   5   3  0.000   1   1   11    1    2   \n",
            "4    15715750   1  20.17   8.17   2   6   4  1.960   1   1   14    0    2   \n",
            "\n",
            "   A13   A14  Class  \n",
            "0  100  1213      0  \n",
            "1  160     1      0  \n",
            "2  280     1      0  \n",
            "3    0     1      1  \n",
            "4   60   159      1  \n"
          ]
        }
      ]
    },
    {
      "cell_type": "markdown",
      "source": [
        "**Data Preprocessing**"
      ],
      "metadata": {
        "id": "FttOKPu8rmBS"
      }
    },
    {
      "cell_type": "code",
      "source": [
        "# Split dataset into features and labels\n",
        "def preprocess_data(dataset):\n",
        "    x = dataset.iloc[:, :-1].values  # Use all rows, all columns except the last one as features\n",
        "    y = dataset.iloc[:, -1].values   # Use all rows, the last column as labels\n",
        "\n",
        "    # Feature Scaling\n",
        "    sc = MinMaxScaler(feature_range=(0, 1))\n",
        "    x = sc.fit_transform(x)\n",
        "\n",
        "    return x, y, sc\n",
        "\n",
        "# Preprocess the data\n",
        "x, y, sc = preprocess_data(dataset)\n",
        "print(f\"Number of features: {x.shape[1]}\")"
      ],
      "metadata": {
        "colab": {
          "base_uri": "https://localhost:8080/"
        },
        "id": "rVKmoLtFEBVG",
        "outputId": "18c8c5ba-8941-4220-da73-d6338a4dec1c",
        "collapsed": true
      },
      "execution_count": 5,
      "outputs": [
        {
          "output_type": "stream",
          "name": "stdout",
          "text": [
            "Number of features: 15\n"
          ]
        }
      ]
    },
    {
      "cell_type": "markdown",
      "source": [
        "**Training Self-Organizing Map (SOM)**"
      ],
      "metadata": {
        "id": "EUvs7gx-r-KF"
      }
    },
    {
      "cell_type": "code",
      "source": [
        "# Train the SOM Function\n",
        "def train_som(data, x_dim=8, y_dim=8, input_len=15, sigma=1.0, learning_rate=0.5, num_iterations=100):\n",
        "    som = MiniSom(x=x_dim, y=y_dim, input_len=input_len, sigma=sigma, learning_rate=learning_rate)\n",
        "    som.random_weights_init(data)\n",
        "    som.train_random(data=data, num_iteration=num_iterations)\n",
        "    return som\n",
        "\n",
        "# Train SOM\n",
        "som = train_som(x, input_len=x.shape[1])\n",
        "\n",
        "# Display SOM Summary\n",
        "print(\"SOM Trained Successfully.\")\n"
      ],
      "metadata": {
        "id": "5irN3t8P1ynn",
        "colab": {
          "base_uri": "https://localhost:8080/"
        },
        "outputId": "50ea43cf-caf6-4f69-8256-c275e53c9032"
      },
      "execution_count": 6,
      "outputs": [
        {
          "output_type": "stream",
          "name": "stdout",
          "text": [
            "SOM Trained Successfully.\n"
          ]
        }
      ]
    },
    {
      "cell_type": "markdown",
      "source": [
        "**Visualization Improvements**"
      ],
      "metadata": {
        "id": "f7PNUNoZsH5B"
      }
    },
    {
      "cell_type": "code",
      "source": [
        "# Visualize the results Function\n",
        "def plot_som(som):\n",
        "    plt.figure(figsize=(10, 10))\n",
        "    plt.title(\"SOM Distance Map\")\n",
        "    plt.xlabel(\"SOM Grid X-axis\")\n",
        "    plt.ylabel(\"SOM Grid Y-axis\")\n",
        "    plt.pcolor(som.distance_map().T)\n",
        "    plt.colorbar(label='Distance')\n",
        "    plt.show()\n",
        "\n",
        "# Plot SOM's distance map\n",
        "plot_som(som)\n"
      ],
      "metadata": {
        "id": "W5Ukj6ZMDj8Y",
        "colab": {
          "base_uri": "https://localhost:8080/",
          "height": 872
        },
        "outputId": "2198ba9f-d457-41dd-dff6-bb1c46813b4e"
      },
      "execution_count": 7,
      "outputs": [
        {
          "output_type": "display_data",
          "data": {
            "text/plain": [
              "<Figure size 1000x1000 with 2 Axes>"
            ],
            "image/png": "[encoded data removed]"
          },
          "metadata": {}
        }
      ]
    },
    {
      "cell_type": "markdown",
      "source": [
        "**Find Frauds and Export Results**"
      ],
      "metadata": {
        "id": "qIZW3qb2sQPU"
      }
    },
    {
      "cell_type": "code",
      "source": [
        "# Identify Potential Frauds Function\n",
        "def identify_frauds(som, data):\n",
        "    mappings = som.win_map(data)\n",
        "\n",
        "    # Example: Hard-coded neuron locations representing outliers (you might need more logic here)\n",
        "    frauds_list = []\n",
        "\n",
        "    # Add neurons to list of frauds if they contain data points\n",
        "    for coordinates in [(6, 2), (1, 1)]:\n",
        "        if coordinates in mappings and len(mappings[coordinates]) > 0:\n",
        "            frauds_list.extend(mappings[coordinates])  # Add all data points mapped to this neuron\n",
        "\n",
        "    frauds = np.array(frauds_list)\n",
        "    return frauds\n",
        "\n",
        "# Find Fraudulent Data Points\n",
        "frauds = identify_frauds(som, x)\n",
        "\n",
        "# Convert fraudulent data points back to their original scale\n",
        "frauds_original_scale = sc.inverse_transform(frauds) if len(frauds) > 0 else []\n",
        "\n",
        "# Export Fraudulent Data\n",
        "def save_frauds_to_csv(frauds_data, output_path='fraudulent_records.csv'):\n",
        "    if len(frauds_data) > 0:\n",
        "        df_frauds = pd.DataFrame(frauds_data)\n",
        "        df_frauds.to_csv(output_path, index=False)\n",
        "        print(f\"Fraudulent data points saved to {output_path}\")\n",
        "    else:\n",
        "        print(\"No fraudulent data points found to save.\")\n",
        "\n",
        "save_frauds_to_csv(frauds_original_scale)\n"
      ],
      "metadata": {
        "id": "yC5kLvlRG867",
        "colab": {
          "base_uri": "https://localhost:8080/"
        },
        "outputId": "35b6b068-8ae0-4efc-e5ea-8699b764d095"
      },
      "execution_count": 9,
      "outputs": [
        {
          "output_type": "stream",
          "name": "stdout",
          "text": [
            "Fraudulent data points saved to fraudulent_records.csv\n"
          ]
        }
      ]
    }
  ]
}
